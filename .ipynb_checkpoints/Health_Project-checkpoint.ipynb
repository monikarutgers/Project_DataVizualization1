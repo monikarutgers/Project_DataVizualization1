{
 "cells": [
  {
   "cell_type": "markdown",
   "metadata": {},
   "source": [
    "# Name of the Project"
   ]
  },
  {
   "cell_type": "markdown",
   "metadata": {},
   "source": [
    "## Describe the core message or hypothesis for the project"
   ]
  },
  {
   "cell_type": "code",
   "execution_count": null,
   "metadata": {},
   "outputs": [],
   "source": []
  },
  {
   "cell_type": "markdown",
   "metadata": {},
   "source": [
    "## Describe the questions you and your group found interesting, and what motivated you to answer them"
   ]
  },
  {
   "cell_type": "code",
   "execution_count": null,
   "metadata": {},
   "outputs": [],
   "source": []
  },
  {
   "cell_type": "markdown",
   "metadata": {},
   "source": [
    "## Describe the data exploration and cleanup process"
   ]
  },
  {
   "cell_type": "markdown",
   "metadata": {},
   "source": [
    "### Read in Data Sources and cleanup the data"
   ]
  },
  {
   "cell_type": "code",
   "execution_count": 1,
   "metadata": {},
   "outputs": [],
   "source": [
    "# Import Dependencies\n",
    "import matplotlib.pyplot as plt\n",
    "import pandas as pd\n",
    "import numpy as np\n",
    "import requests\n",
    "import time\n",
    "import os\n",
    "from pprint import pprint\n",
    "\n",
    "# Import stats for ttest analysis\n",
    "import scipy.stats as stats\n",
    "\n",
    "# Import API key\n",
    "from api_keys import yelp_api_key\n",
    "from yelpapi import YelpAPI\n",
    "yelp_api = YelpAPI(yelp_api_key)"
   ]
  },
  {
   "cell_type": "code",
   "execution_count": 2,
   "metadata": {},
   "outputs": [],
   "source": [
    "# Verify library versions if some error occurs\n",
    "\n",
    "#pd.__version__ # Pandas version: 0.23.4\n",
    "#np.__version__ # Numpy version: 1.15.4\n",
    "#import matplotlib as mat\n",
    "#mat.__version__ # Matplotlib version: 3.0.2"
   ]
  },
  {
   "cell_type": "code",
   "execution_count": 3,
   "metadata": {},
   "outputs": [],
   "source": [
    "# Build URL\n",
    "url = \"https://chronicdata.cdc.gov/resource/mxg7-989n.json?\"\n",
    "topic = \"topic=Obesity / Weight Status\"\n",
    "stratification_category = \"stratificationcategoryid1=OVR\"\n",
    "question = \"questionid=Q036\"\n",
    "query_url = f\"{url}{topic}&{stratification_category}&{question}\""
   ]
  },
  {
   "cell_type": "code",
   "execution_count": 4,
   "metadata": {},
   "outputs": [],
   "source": [
    "# Retrieve CDC obesity Data\n",
    "responses = requests.get(query_url).json()\n",
    "\n",
    "# Display the data\n",
    "#pprint(responses)"
   ]
  },
  {
   "cell_type": "code",
   "execution_count": 6,
   "metadata": {},
   "outputs": [
    {
     "data": {
      "text/html": [
       "<div>\n",
       "<style scoped>\n",
       "    .dataframe tbody tr th:only-of-type {\n",
       "        vertical-align: middle;\n",
       "    }\n",
       "\n",
       "    .dataframe tbody tr th {\n",
       "        vertical-align: top;\n",
       "    }\n",
       "\n",
       "    .dataframe thead th {\n",
       "        text-align: right;\n",
       "    }\n",
       "</style>\n",
       "<table border=\"1\" class=\"dataframe\">\n",
       "  <thead>\n",
       "    <tr style=\"text-align: right;\">\n",
       "      <th></th>\n",
       "      <th>Year</th>\n",
       "      <th>Location</th>\n",
       "      <th>Obesity Percentage</th>\n",
       "    </tr>\n",
       "  </thead>\n",
       "  <tbody>\n",
       "    <tr>\n",
       "      <th>0</th>\n",
       "      <td>2013</td>\n",
       "      <td>NY</td>\n",
       "      <td>25.4</td>\n",
       "    </tr>\n",
       "    <tr>\n",
       "      <th>1</th>\n",
       "      <td>2013</td>\n",
       "      <td>ME</td>\n",
       "      <td>28.9</td>\n",
       "    </tr>\n",
       "    <tr>\n",
       "      <th>2</th>\n",
       "      <td>2016</td>\n",
       "      <td>WI</td>\n",
       "      <td>30.7</td>\n",
       "    </tr>\n",
       "    <tr>\n",
       "      <th>3</th>\n",
       "      <td>2016</td>\n",
       "      <td>NM</td>\n",
       "      <td>28.3</td>\n",
       "    </tr>\n",
       "    <tr>\n",
       "      <th>4</th>\n",
       "      <td>2016</td>\n",
       "      <td>NH</td>\n",
       "      <td>26.6</td>\n",
       "    </tr>\n",
       "  </tbody>\n",
       "</table>\n",
       "</div>"
      ],
      "text/plain": [
       "   Year Location Obesity Percentage\n",
       "0  2013       NY               25.4\n",
       "1  2013       ME               28.9\n",
       "2  2016       WI               30.7\n",
       "3  2016       NM               28.3\n",
       "4  2016       NH               26.6"
      ]
     },
     "execution_count": 6,
     "metadata": {},
     "output_type": "execute_result"
    }
   ],
   "source": [
    "# Create lists to store CDC information\n",
    "\n",
    "year_ovr = []\n",
    "location_ovr = []\n",
    "value_ovr = []\n",
    "\n",
    "# Loop through items\n",
    "for response in responses:\n",
    "    try:\n",
    "        year = response['yearstart']\n",
    "        location = response['locationabbr']\n",
    "        value = response['data_value']\n",
    "    \n",
    "        year_ovr.append(year)\n",
    "        location_ovr.append(location)\n",
    "        value_ovr.append(value)\n",
    "    except KeyError:\n",
    "        next\n",
    "\n",
    "# Create DataFrame\n",
    "data_ovr = pd.DataFrame({'Year': year_ovr,\n",
    "                         'Location': location_ovr,\n",
    "                         'Obesity Percentage': value_ovr\n",
    "                        })\n",
    "data_ovr.head()"
   ]
  },
  {
   "cell_type": "code",
   "execution_count": 7,
   "metadata": {},
   "outputs": [
    {
     "name": "stdout",
     "output_type": "stream",
     "text": [
      "<class 'pandas.core.frame.DataFrame'>\n",
      "RangeIndex: 374 entries, 0 to 373\n",
      "Data columns (total 3 columns):\n",
      "Year                  374 non-null object\n",
      "Location              374 non-null object\n",
      "Obesity Percentage    374 non-null object\n",
      "dtypes: object(3)\n",
      "memory usage: 8.8+ KB\n"
     ]
    }
   ],
   "source": [
    "# Get data information\n",
    "data_ovr.info()"
   ]
  },
  {
   "cell_type": "code",
   "execution_count": 8,
   "metadata": {},
   "outputs": [],
   "source": [
    "# Change Obesity Percentage data type to float\n",
    "data_ovr[\"Obesity Percentage\"] = data_ovr[\"Obesity Percentage\"].astype(float)\n",
    "\n",
    "# Change Year data type to \n",
    "data_ovr[\"Year\"] = data_ovr[\"Year\"].astype(int)\n"
   ]
  },
  {
   "cell_type": "code",
   "execution_count": 9,
   "metadata": {},
   "outputs": [],
   "source": [
    "# Create dataframe just for States\n",
    "df_states = data_ovr[data_ovr['Location'] != 'US']\n",
    "df_states = df_states.reset_index(drop = True)\n",
    "\n",
    "# Create dataframe for US\n",
    "df_us = data_ovr[data_ovr['Location'] == 'US']\n",
    "df_us = df_us.sort_values(by = 'Year')\n",
    "df_us = df_us.reset_index(drop = True)"
   ]
  },
  {
   "cell_type": "code",
   "execution_count": 10,
   "metadata": {},
   "outputs": [
    {
     "data": {
      "text/html": [
       "<div>\n",
       "<style scoped>\n",
       "    .dataframe tbody tr th:only-of-type {\n",
       "        vertical-align: middle;\n",
       "    }\n",
       "\n",
       "    .dataframe tbody tr th {\n",
       "        vertical-align: top;\n",
       "    }\n",
       "\n",
       "    .dataframe thead th {\n",
       "        text-align: right;\n",
       "    }\n",
       "</style>\n",
       "<table border=\"1\" class=\"dataframe\">\n",
       "  <thead>\n",
       "    <tr style=\"text-align: right;\">\n",
       "      <th></th>\n",
       "      <th>Year</th>\n",
       "      <th>Location</th>\n",
       "      <th>Obesity Percentage</th>\n",
       "    </tr>\n",
       "  </thead>\n",
       "  <tbody>\n",
       "    <tr>\n",
       "      <th>0</th>\n",
       "      <td>2013</td>\n",
       "      <td>NY</td>\n",
       "      <td>25.4</td>\n",
       "    </tr>\n",
       "    <tr>\n",
       "      <th>1</th>\n",
       "      <td>2013</td>\n",
       "      <td>ME</td>\n",
       "      <td>28.9</td>\n",
       "    </tr>\n",
       "    <tr>\n",
       "      <th>2</th>\n",
       "      <td>2016</td>\n",
       "      <td>WI</td>\n",
       "      <td>30.7</td>\n",
       "    </tr>\n",
       "    <tr>\n",
       "      <th>3</th>\n",
       "      <td>2016</td>\n",
       "      <td>NM</td>\n",
       "      <td>28.3</td>\n",
       "    </tr>\n",
       "    <tr>\n",
       "      <th>4</th>\n",
       "      <td>2016</td>\n",
       "      <td>NH</td>\n",
       "      <td>26.6</td>\n",
       "    </tr>\n",
       "  </tbody>\n",
       "</table>\n",
       "</div>"
      ],
      "text/plain": [
       "   Year Location  Obesity Percentage\n",
       "0  2013       NY                25.4\n",
       "1  2013       ME                28.9\n",
       "2  2016       WI                30.7\n",
       "3  2016       NM                28.3\n",
       "4  2016       NH                26.6"
      ]
     },
     "execution_count": 10,
     "metadata": {},
     "output_type": "execute_result"
    }
   ],
   "source": [
    "# Display States dataframe\n",
    "df_states.head()"
   ]
  },
  {
   "cell_type": "code",
   "execution_count": 11,
   "metadata": {},
   "outputs": [
    {
     "data": {
      "text/html": [
       "<div>\n",
       "<style scoped>\n",
       "    .dataframe tbody tr th:only-of-type {\n",
       "        vertical-align: middle;\n",
       "    }\n",
       "\n",
       "    .dataframe tbody tr th {\n",
       "        vertical-align: top;\n",
       "    }\n",
       "\n",
       "    .dataframe thead th {\n",
       "        text-align: right;\n",
       "    }\n",
       "</style>\n",
       "<table border=\"1\" class=\"dataframe\">\n",
       "  <thead>\n",
       "    <tr style=\"text-align: right;\">\n",
       "      <th></th>\n",
       "      <th>Year</th>\n",
       "      <th>Location</th>\n",
       "      <th>Obesity Percentage</th>\n",
       "    </tr>\n",
       "  </thead>\n",
       "  <tbody>\n",
       "    <tr>\n",
       "      <th>0</th>\n",
       "      <td>2011</td>\n",
       "      <td>US</td>\n",
       "      <td>27.4</td>\n",
       "    </tr>\n",
       "    <tr>\n",
       "      <th>1</th>\n",
       "      <td>2012</td>\n",
       "      <td>US</td>\n",
       "      <td>27.7</td>\n",
       "    </tr>\n",
       "    <tr>\n",
       "      <th>2</th>\n",
       "      <td>2013</td>\n",
       "      <td>US</td>\n",
       "      <td>28.3</td>\n",
       "    </tr>\n",
       "    <tr>\n",
       "      <th>3</th>\n",
       "      <td>2014</td>\n",
       "      <td>US</td>\n",
       "      <td>28.9</td>\n",
       "    </tr>\n",
       "    <tr>\n",
       "      <th>4</th>\n",
       "      <td>2015</td>\n",
       "      <td>US</td>\n",
       "      <td>28.9</td>\n",
       "    </tr>\n",
       "    <tr>\n",
       "      <th>5</th>\n",
       "      <td>2016</td>\n",
       "      <td>US</td>\n",
       "      <td>29.6</td>\n",
       "    </tr>\n",
       "    <tr>\n",
       "      <th>6</th>\n",
       "      <td>2017</td>\n",
       "      <td>US</td>\n",
       "      <td>30.1</td>\n",
       "    </tr>\n",
       "  </tbody>\n",
       "</table>\n",
       "</div>"
      ],
      "text/plain": [
       "   Year Location  Obesity Percentage\n",
       "0  2011       US                27.4\n",
       "1  2012       US                27.7\n",
       "2  2013       US                28.3\n",
       "3  2014       US                28.9\n",
       "4  2015       US                28.9\n",
       "5  2016       US                29.6\n",
       "6  2017       US                30.1"
      ]
     },
     "execution_count": 11,
     "metadata": {},
     "output_type": "execute_result"
    }
   ],
   "source": [
    "# Display US dataframe\n",
    "df_us"
   ]
  },
  {
   "cell_type": "code",
   "execution_count": 12,
   "metadata": {},
   "outputs": [],
   "source": [
    "# Filter 2017 data for states\n",
    "df_states_2017 = df_states[df_states[\"Year\"] == 2017]\n",
    "\n",
    "# Sort 2017 data to discover top Obsesity Percentage\n",
    "df_states_2017 = df_states_2017.sort_values(by = 'Obesity Percentage', ascending = False)\n",
    "df_states_2017 = df_states_2017.reset_index(drop = True)"
   ]
  },
  {
   "cell_type": "code",
   "execution_count": 13,
   "metadata": {},
   "outputs": [
    {
     "data": {
      "text/html": [
       "<div>\n",
       "<style scoped>\n",
       "    .dataframe tbody tr th:only-of-type {\n",
       "        vertical-align: middle;\n",
       "    }\n",
       "\n",
       "    .dataframe tbody tr th {\n",
       "        vertical-align: top;\n",
       "    }\n",
       "\n",
       "    .dataframe thead th {\n",
       "        text-align: right;\n",
       "    }\n",
       "</style>\n",
       "<table border=\"1\" class=\"dataframe\">\n",
       "  <thead>\n",
       "    <tr style=\"text-align: right;\">\n",
       "      <th></th>\n",
       "      <th>Year</th>\n",
       "      <th>Location</th>\n",
       "      <th>Obesity Percentage</th>\n",
       "    </tr>\n",
       "  </thead>\n",
       "  <tbody>\n",
       "    <tr>\n",
       "      <th>0</th>\n",
       "      <td>2017</td>\n",
       "      <td>WV</td>\n",
       "      <td>38.1</td>\n",
       "    </tr>\n",
       "    <tr>\n",
       "      <th>1</th>\n",
       "      <td>2017</td>\n",
       "      <td>MS</td>\n",
       "      <td>37.3</td>\n",
       "    </tr>\n",
       "    <tr>\n",
       "      <th>2</th>\n",
       "      <td>2017</td>\n",
       "      <td>OK</td>\n",
       "      <td>36.5</td>\n",
       "    </tr>\n",
       "    <tr>\n",
       "      <th>3</th>\n",
       "      <td>2017</td>\n",
       "      <td>IA</td>\n",
       "      <td>36.4</td>\n",
       "    </tr>\n",
       "    <tr>\n",
       "      <th>4</th>\n",
       "      <td>2017</td>\n",
       "      <td>AL</td>\n",
       "      <td>36.3</td>\n",
       "    </tr>\n",
       "  </tbody>\n",
       "</table>\n",
       "</div>"
      ],
      "text/plain": [
       "   Year Location  Obesity Percentage\n",
       "0  2017       WV                38.1\n",
       "1  2017       MS                37.3\n",
       "2  2017       OK                36.5\n",
       "3  2017       IA                36.4\n",
       "4  2017       AL                36.3"
      ]
     },
     "execution_count": 13,
     "metadata": {},
     "output_type": "execute_result"
    }
   ],
   "source": [
    "# Display Top 5 States\n",
    "df_states_2017.head()"
   ]
  },
  {
   "cell_type": "code",
   "execution_count": 14,
   "metadata": {},
   "outputs": [
    {
     "data": {
      "text/html": [
       "<div>\n",
       "<style scoped>\n",
       "    .dataframe tbody tr th:only-of-type {\n",
       "        vertical-align: middle;\n",
       "    }\n",
       "\n",
       "    .dataframe tbody tr th {\n",
       "        vertical-align: top;\n",
       "    }\n",
       "\n",
       "    .dataframe thead th {\n",
       "        text-align: right;\n",
       "    }\n",
       "</style>\n",
       "<table border=\"1\" class=\"dataframe\">\n",
       "  <thead>\n",
       "    <tr style=\"text-align: right;\">\n",
       "      <th></th>\n",
       "      <th>Year</th>\n",
       "      <th>Location</th>\n",
       "      <th>Obesity Percentage</th>\n",
       "    </tr>\n",
       "  </thead>\n",
       "  <tbody>\n",
       "    <tr>\n",
       "      <th>48</th>\n",
       "      <td>2017</td>\n",
       "      <td>UT</td>\n",
       "      <td>25.3</td>\n",
       "    </tr>\n",
       "    <tr>\n",
       "      <th>49</th>\n",
       "      <td>2017</td>\n",
       "      <td>CA</td>\n",
       "      <td>25.1</td>\n",
       "    </tr>\n",
       "    <tr>\n",
       "      <th>50</th>\n",
       "      <td>2017</td>\n",
       "      <td>HI</td>\n",
       "      <td>23.8</td>\n",
       "    </tr>\n",
       "    <tr>\n",
       "      <th>51</th>\n",
       "      <td>2017</td>\n",
       "      <td>DC</td>\n",
       "      <td>23.0</td>\n",
       "    </tr>\n",
       "    <tr>\n",
       "      <th>52</th>\n",
       "      <td>2017</td>\n",
       "      <td>CO</td>\n",
       "      <td>22.6</td>\n",
       "    </tr>\n",
       "  </tbody>\n",
       "</table>\n",
       "</div>"
      ],
      "text/plain": [
       "    Year Location  Obesity Percentage\n",
       "48  2017       UT                25.3\n",
       "49  2017       CA                25.1\n",
       "50  2017       HI                23.8\n",
       "51  2017       DC                23.0\n",
       "52  2017       CO                22.6"
      ]
     },
     "execution_count": 14,
     "metadata": {},
     "output_type": "execute_result"
    }
   ],
   "source": [
    "# Display Bottom 5 States\n",
    "df_states_2017.tail()"
   ]
  },
  {
   "cell_type": "markdown",
   "metadata": {},
   "source": [
    "## Read in Obesity Percentage by Age Data "
   ]
  },
  {
   "cell_type": "code",
   "execution_count": 15,
   "metadata": {},
   "outputs": [],
   "source": [
    "# Build URL\n",
    "url = \"https://chronicdata.cdc.gov/resource/mxg7-989n.json?\"\n",
    "topic = \"topic=Obesity / Weight Status\"\n",
    "stratification_category = \"stratificationcategoryid1=AGEYR\"\n",
    "question = \"questionid=Q036\"\n",
    "query_url = f\"{url}{topic}&{stratification_category}&{question}\""
   ]
  },
  {
   "cell_type": "code",
   "execution_count": 16,
   "metadata": {},
   "outputs": [],
   "source": [
    "# Retrieve CDC obesity Data\n",
    "responses = requests.get(query_url).json()"
   ]
  },
  {
   "cell_type": "code",
   "execution_count": 17,
   "metadata": {},
   "outputs": [
    {
     "data": {
      "text/html": [
       "<div>\n",
       "<style scoped>\n",
       "    .dataframe tbody tr th:only-of-type {\n",
       "        vertical-align: middle;\n",
       "    }\n",
       "\n",
       "    .dataframe tbody tr th {\n",
       "        vertical-align: top;\n",
       "    }\n",
       "\n",
       "    .dataframe thead th {\n",
       "        text-align: right;\n",
       "    }\n",
       "</style>\n",
       "<table border=\"1\" class=\"dataframe\">\n",
       "  <thead>\n",
       "    <tr style=\"text-align: right;\">\n",
       "      <th></th>\n",
       "      <th>Year</th>\n",
       "      <th>Location</th>\n",
       "      <th>Age Bin</th>\n",
       "      <th>Obesity Percentage</th>\n",
       "    </tr>\n",
       "  </thead>\n",
       "  <tbody>\n",
       "    <tr>\n",
       "      <th>0</th>\n",
       "      <td>2011</td>\n",
       "      <td>AL</td>\n",
       "      <td>25 - 34</td>\n",
       "      <td>35.2</td>\n",
       "    </tr>\n",
       "    <tr>\n",
       "      <th>1</th>\n",
       "      <td>2015</td>\n",
       "      <td>NY</td>\n",
       "      <td>35 - 44</td>\n",
       "      <td>29.7</td>\n",
       "    </tr>\n",
       "    <tr>\n",
       "      <th>2</th>\n",
       "      <td>2013</td>\n",
       "      <td>WA</td>\n",
       "      <td>45 - 54</td>\n",
       "      <td>33.3</td>\n",
       "    </tr>\n",
       "    <tr>\n",
       "      <th>3</th>\n",
       "      <td>2011</td>\n",
       "      <td>TN</td>\n",
       "      <td>55 - 64</td>\n",
       "      <td>32.5</td>\n",
       "    </tr>\n",
       "    <tr>\n",
       "      <th>4</th>\n",
       "      <td>2014</td>\n",
       "      <td>NM</td>\n",
       "      <td>25 - 34</td>\n",
       "      <td>33.2</td>\n",
       "    </tr>\n",
       "  </tbody>\n",
       "</table>\n",
       "</div>"
      ],
      "text/plain": [
       "   Year Location  Age Bin Obesity Percentage\n",
       "0  2011       AL  25 - 34               35.2\n",
       "1  2015       NY  35 - 44               29.7\n",
       "2  2013       WA  45 - 54               33.3\n",
       "3  2011       TN  55 - 64               32.5\n",
       "4  2014       NM  25 - 34               33.2"
      ]
     },
     "execution_count": 17,
     "metadata": {},
     "output_type": "execute_result"
    }
   ],
   "source": [
    "# Create lists to store CDC information\n",
    "\n",
    "year_ageyr = []\n",
    "location_ageyr = []\n",
    "value_ageyr = []\n",
    "bins_ageyr = []\n",
    "\n",
    "# Loop through items\n",
    "for response in responses:\n",
    "    try:\n",
    "        year = response['yearstart']\n",
    "        location = response['locationabbr']\n",
    "        value = response['data_value']\n",
    "        bins = response['stratification1']\n",
    "    \n",
    "        year_ageyr.append(year)\n",
    "        location_ageyr.append(location)\n",
    "        value_ageyr.append(value)\n",
    "        bins_ageyr.append(bins)\n",
    "    except KeyError:\n",
    "        next\n",
    "\n",
    "# Create DataFrame\n",
    "data_ageyr = pd.DataFrame({'Year': year_ageyr,\n",
    "                           'Location': location_ageyr,\n",
    "                           'Age Bin': bins_ageyr,\n",
    "                           'Obesity Percentage': value_ageyr\n",
    "                        })\n",
    "data_ageyr.head()"
   ]
  },
  {
   "cell_type": "code",
   "execution_count": 18,
   "metadata": {},
   "outputs": [
    {
     "name": "stdout",
     "output_type": "stream",
     "text": [
      "<class 'pandas.core.frame.DataFrame'>\n",
      "RangeIndex: 994 entries, 0 to 993\n",
      "Data columns (total 4 columns):\n",
      "Year                  994 non-null object\n",
      "Location              994 non-null object\n",
      "Age Bin               994 non-null object\n",
      "Obesity Percentage    994 non-null object\n",
      "dtypes: object(4)\n",
      "memory usage: 31.1+ KB\n"
     ]
    }
   ],
   "source": [
    "# Get data information\n",
    "data_ageyr.info()"
   ]
  },
  {
   "cell_type": "code",
   "execution_count": 19,
   "metadata": {},
   "outputs": [],
   "source": [
    "# Change Obesity Percentage data type to float\n",
    "data_ageyr[\"Obesity Percentage\"] = data_ageyr[\"Obesity Percentage\"].astype(float)\n",
    "\n",
    "# Change Year data type to \n",
    "data_ageyr[\"Year\"] = data_ageyr[\"Year\"].astype(int)\n"
   ]
  },
  {
   "cell_type": "code",
   "execution_count": 20,
   "metadata": {},
   "outputs": [],
   "source": [
    "# Create dataframe by age for US for 2017\n",
    "df_ageyr_us = data_ageyr[(data_ageyr['Location'] == 'US') & (data_ageyr['Year'] == 2017)]\n",
    "df_ageyr_us = df_ageyr_us.sort_values(by = 'Age Bin')\n",
    "df_ageyr_us = df_ageyr_us.reset_index(drop = True)"
   ]
  },
  {
   "cell_type": "code",
   "execution_count": 21,
   "metadata": {},
   "outputs": [
    {
     "data": {
      "text/html": [
       "<div>\n",
       "<style scoped>\n",
       "    .dataframe tbody tr th:only-of-type {\n",
       "        vertical-align: middle;\n",
       "    }\n",
       "\n",
       "    .dataframe tbody tr th {\n",
       "        vertical-align: top;\n",
       "    }\n",
       "\n",
       "    .dataframe thead th {\n",
       "        text-align: right;\n",
       "    }\n",
       "</style>\n",
       "<table border=\"1\" class=\"dataframe\">\n",
       "  <thead>\n",
       "    <tr style=\"text-align: right;\">\n",
       "      <th></th>\n",
       "      <th>Year</th>\n",
       "      <th>Location</th>\n",
       "      <th>Age Bin</th>\n",
       "      <th>Obesity Percentage</th>\n",
       "    </tr>\n",
       "  </thead>\n",
       "  <tbody>\n",
       "    <tr>\n",
       "      <th>0</th>\n",
       "      <td>2017</td>\n",
       "      <td>US</td>\n",
       "      <td>18 - 24</td>\n",
       "      <td>16.5</td>\n",
       "    </tr>\n",
       "    <tr>\n",
       "      <th>1</th>\n",
       "      <td>2017</td>\n",
       "      <td>US</td>\n",
       "      <td>35 - 44</td>\n",
       "      <td>33.0</td>\n",
       "    </tr>\n",
       "    <tr>\n",
       "      <th>2</th>\n",
       "      <td>2017</td>\n",
       "      <td>US</td>\n",
       "      <td>45 - 54</td>\n",
       "      <td>35.9</td>\n",
       "    </tr>\n",
       "    <tr>\n",
       "      <th>3</th>\n",
       "      <td>2017</td>\n",
       "      <td>US</td>\n",
       "      <td>55 - 64</td>\n",
       "      <td>35.4</td>\n",
       "    </tr>\n",
       "  </tbody>\n",
       "</table>\n",
       "</div>"
      ],
      "text/plain": [
       "   Year Location  Age Bin  Obesity Percentage\n",
       "0  2017       US  18 - 24                16.5\n",
       "1  2017       US  35 - 44                33.0\n",
       "2  2017       US  45 - 54                35.9\n",
       "3  2017       US  55 - 64                35.4"
      ]
     },
     "execution_count": 21,
     "metadata": {},
     "output_type": "execute_result"
    }
   ],
   "source": [
    "# Display US dataframe\n",
    "df_ageyr_us"
   ]
  },
  {
   "cell_type": "markdown",
   "metadata": {},
   "source": [
    "## Data Analysis"
   ]
  },
  {
   "cell_type": "markdown",
   "metadata": {},
   "source": [
    "### Plot US obesity data: overall and by age"
   ]
  },
  {
   "cell_type": "code",
   "execution_count": 28,
   "metadata": {},
   "outputs": [
    {
     "data": {
      "image/png": "[encoded data removed]",
      "text/plain": [
       "<Figure size 1152x360 with 2 Axes>"
      ]
     },
     "metadata": {
      "needs_background": "light"
     },
     "output_type": "display_data"
    }
   ],
   "source": [
    "# Create subplot figure\n",
    "fig, ax = plt.subplots(1, 2, figsize = (16,5))\n",
    "\n",
    "# Plot data for US\n",
    "df_us.plot(x = \"Year\", y = \"Obesity Percentage\", ax = ax[0], marker = \">\", legend = None)\n",
    "df_ageyr_us.plot(kind = 'bar', x = \"Age Bin\", y = \"Obesity Percentage\", ax = ax[1], legend = None)\n",
    "\n",
    "# Insert labels\n",
    "ax[0].set_title(\"US Obesity Percentages from 2011 to 2017\", size = 13, weight = 'bold')\n",
    "ax[0].set_xlabel(\"Years\", labelpad=10, size = 12,  weight = 'bold')\n",
    "ax[0].set_ylabel(\"Obesity Percentages\", labelpad=10, size = 12, weight = 'bold')\n",
    "\n",
    "ax[1].set_title(\"US 2017 Obesity Percentages by Age\", size = 13, weight = 'bold')\n",
    "ax[1].set_xlabel(\"Years\", labelpad=10, size = 12,  weight = 'bold')\n",
    "ax[1].set_xticklabels(df_ageyr_us[\"Age Bin\"], rotation = 0)\n",
    "ax[1].set_ylabel(\"Obesity Percentages\", labelpad=10, size = 12, weight = 'bold')\n",
    "\n",
    "# Save Figures\n",
    "figure_path = os.path.join('images','US_Obesity_Percentages')\n",
    "plt.savefig(figure_path)\n",
    "\n",
    "plt.show()"
   ]
  },
  {
   "cell_type": "markdown",
   "metadata": {},
   "source": [
    "### Plot obesity states rank: first 5 and last 5"
   ]
  },
  {
   "cell_type": "code",
   "execution_count": 47,
   "metadata": {},
   "outputs": [
    {
     "data": {
      "image/png": "[encoded data removed]",
      "text/plain": [
       "<Figure size 1152x360 with 2 Axes>"
      ]
     },
     "metadata": {
      "needs_background": "light"
     },
     "output_type": "display_data"
    }
   ],
   "source": [
    "# Group dataframes\n",
    "df_top5_states = df_states_2017.head().groupby('Location').sum()\n",
    "df_top5_states = df_top5_states['Obesity Percentage'].sort_values()\n",
    "\n",
    "df_bottom5_states = df_states_2017.tail().groupby('Location').sum()\n",
    "df_bottom5_states = df_bottom5_states['Obesity Percentage'].sort_values()\n",
    "\n",
    "# Create figure\n",
    "fig, ax = plt.subplots(1,2, figsize= (16,5))\n",
    "\n",
    "df_top5_states.plot(kind='barh', ax = ax[0], color='#86bf91', zorder=2, width=0.85)\n",
    "df_bottom5_states.plot(kind='barh', ax = ax[1], color='#86bf91', zorder=2, width=0.85)\n",
    "\n",
    "# Set Title\n",
    "ax[0].set_title('Top 5 Obese States', weight = 'bold', size = 15, loc = 'center')\n",
    "ax[1].set_title('Bottom 5 Obese States', weight = 'bold', size = 15, loc = 'center')\n",
    "\n",
    "# Loop through subplots to put labels\n",
    "for i in range(len(ax)):\n",
    "\n",
    "    # Remove plotting borders\n",
    "    ax[i].spines['right'].set_visible(False)\n",
    "    ax[i].spines['top'].set_visible(False)\n",
    "    ax[i].spines['left'].set_visible(False)\n",
    "    ax[i].spines['bottom'].set_visible(False)\n",
    "\n",
    "    # Switch off ticks\n",
    "    ax[i].tick_params(axis=\"both\", which=\"both\", bottom=\"off\", top=\"off\", labelbottom=\"on\", left=\"off\", right=\"off\", labelleft=\"on\")\n",
    "\n",
    "    # Draw vertical axis lines\n",
    "    vals = ax[i].get_xticks()\n",
    "    for tick in vals:\n",
    "        ax[i].axvline(x=tick, linestyle='dashed', alpha=0.4, color='#eeeeee', zorder=1)\n",
    "\n",
    "    # Set x-axis label\n",
    "    ax[i].set_xlabel(\"Obesity Percentages\", labelpad=10, weight='bold', size=12)\n",
    "\n",
    "    # Set y-axis label\n",
    "    ax[i].set_ylabel(\"States\", labelpad=10, weight='bold', size=12)\n",
    "\n",
    "# Set values on right of the bars\n",
    "[ax[0].text(v, j, '{:.2f}%'.format(v)) for j, v in enumerate(df_top5_states)]\n",
    "[ax[1].text(v, j, '{:.2f}%'.format(v)) for j, v in enumerate(df_bottom5_states)]\n",
    " \n",
    "# Save Figures\n",
    "figure_path = os.path.join('images','US_Obesity_Rankings')\n",
    "plt.savefig(figure_path)\n",
    "    \n",
    "plt.show()"
   ]
  },
  {
   "cell_type": "markdown",
   "metadata": {},
   "source": [
    "### Analyze Healthy and Unhealthy Restaurants Ratings"
   ]
  },
  {
   "cell_type": "code",
   "execution_count": 34,
   "metadata": {},
   "outputs": [],
   "source": [
    "# Set Top4 healthy and unhealthy restaurants\n",
    "Top4_Unhealthy = [\"McDonalds\", \"Wendys\", \"KFC\", \"Burger King\"]\n",
    "Top4_Healthy = [\"Chiptole\", \"Subway\", \"Noodles&Company\", \"Panera\"]"
   ]
  },
  {
   "cell_type": "code",
   "execution_count": 35,
   "metadata": {},
   "outputs": [],
   "source": [
    "# Set list with all US states\n",
    "states = df_states_2017[\"Location\"].unique()"
   ]
  },
  {
   "cell_type": "code",
   "execution_count": 36,
   "metadata": {},
   "outputs": [],
   "source": [
    "# Read in 20 restaurant ratings by unhealthy chain and state\n",
    "rating = []\n",
    "review_count = []\n",
    "restaurant_name = []\n",
    "restaurant_state = []\n",
    "\n",
    "# Loop through all US states and restaurants\n",
    "for state in states:\n",
    "    for Unhealthy in Top4_Unhealthy:\n",
    "        response = yelp_api.search_query(term=Unhealthy, location= state)\n",
    "        for row in range (len(response[\"businesses\"])):\n",
    "            rating.append(response[\"businesses\"][row][\"rating\"])\n",
    "            review_count.append(response[\"businesses\"][row][\"review_count\"])\n",
    "            restaurant_name.append(Unhealthy)\n",
    "            restaurant_state.append(state)\n",
    "\n",
    "# Create datafarame\n",
    "unhealthy_restaurants = pd.DataFrame({\"Restaurant State\": restaurant_state, \"Restaurant Name\": restaurant_name,\n",
    "                                         \"Restaurant Rating\": rating, \"Restaurant Review\": review_count})"
   ]
  },
  {
   "cell_type": "code",
   "execution_count": 37,
   "metadata": {},
   "outputs": [
    {
     "data": {
      "text/html": [
       "<div>\n",
       "<style scoped>\n",
       "    .dataframe tbody tr th:only-of-type {\n",
       "        vertical-align: middle;\n",
       "    }\n",
       "\n",
       "    .dataframe tbody tr th {\n",
       "        vertical-align: top;\n",
       "    }\n",
       "\n",
       "    .dataframe thead th {\n",
       "        text-align: right;\n",
       "    }\n",
       "</style>\n",
       "<table border=\"1\" class=\"dataframe\">\n",
       "  <thead>\n",
       "    <tr style=\"text-align: right;\">\n",
       "      <th></th>\n",
       "      <th>Restaurant State</th>\n",
       "      <th>Restaurant Name</th>\n",
       "      <th>Restaurant Rating</th>\n",
       "      <th>Restaurant Review</th>\n",
       "    </tr>\n",
       "  </thead>\n",
       "  <tbody>\n",
       "    <tr>\n",
       "      <th>0</th>\n",
       "      <td>WV</td>\n",
       "      <td>McDonalds</td>\n",
       "      <td>1.5</td>\n",
       "      <td>12</td>\n",
       "    </tr>\n",
       "    <tr>\n",
       "      <th>1</th>\n",
       "      <td>WV</td>\n",
       "      <td>McDonalds</td>\n",
       "      <td>1.5</td>\n",
       "      <td>10</td>\n",
       "    </tr>\n",
       "    <tr>\n",
       "      <th>2</th>\n",
       "      <td>WV</td>\n",
       "      <td>McDonalds</td>\n",
       "      <td>1.5</td>\n",
       "      <td>7</td>\n",
       "    </tr>\n",
       "    <tr>\n",
       "      <th>3</th>\n",
       "      <td>WV</td>\n",
       "      <td>McDonalds</td>\n",
       "      <td>1.5</td>\n",
       "      <td>8</td>\n",
       "    </tr>\n",
       "    <tr>\n",
       "      <th>4</th>\n",
       "      <td>WV</td>\n",
       "      <td>McDonalds</td>\n",
       "      <td>1.5</td>\n",
       "      <td>3</td>\n",
       "    </tr>\n",
       "  </tbody>\n",
       "</table>\n",
       "</div>"
      ],
      "text/plain": [
       "  Restaurant State Restaurant Name  Restaurant Rating  Restaurant Review\n",
       "0               WV       McDonalds                1.5                 12\n",
       "1               WV       McDonalds                1.5                 10\n",
       "2               WV       McDonalds                1.5                  7\n",
       "3               WV       McDonalds                1.5                  8\n",
       "4               WV       McDonalds                1.5                  3"
      ]
     },
     "execution_count": 37,
     "metadata": {},
     "output_type": "execute_result"
    }
   ],
   "source": [
    "# Display dataframe\n",
    "unhealthy_restaurants.head()"
   ]
  },
  {
   "cell_type": "code",
   "execution_count": 38,
   "metadata": {},
   "outputs": [],
   "source": [
    "# Read in 20 restaurant ratings by healthy chain and state\n",
    "rating = []\n",
    "review_count = []\n",
    "restaurant_name = []\n",
    "restaurant_state = []\n",
    "\n",
    "# Loop through all US states and restaurants\n",
    "for state in states:\n",
    "    for Healthy in Top4_Healthy:\n",
    "        response = yelp_api.search_query(term=Healthy, location= state)\n",
    "        for row in range (len(response[\"businesses\"])):\n",
    "            rating.append(response[\"businesses\"][row][\"rating\"])\n",
    "            review_count.append(response[\"businesses\"][row][\"review_count\"])\n",
    "            restaurant_name.append(Healthy)\n",
    "            restaurant_state.append(state)\n",
    "\n",
    "# Create datafarame\n",
    "healthy_restaurants = pd.DataFrame({\"Restaurant State\": restaurant_state, \"Restaurant Name\": restaurant_name,\n",
    "                                         \"Restaurant Rating\": rating, \"Restaurant Review\": review_count})"
   ]
  },
  {
   "cell_type": "code",
   "execution_count": 39,
   "metadata": {},
   "outputs": [
    {
     "data": {
      "text/html": [
       "<div>\n",
       "<style scoped>\n",
       "    .dataframe tbody tr th:only-of-type {\n",
       "        vertical-align: middle;\n",
       "    }\n",
       "\n",
       "    .dataframe tbody tr th {\n",
       "        vertical-align: top;\n",
       "    }\n",
       "\n",
       "    .dataframe thead th {\n",
       "        text-align: right;\n",
       "    }\n",
       "</style>\n",
       "<table border=\"1\" class=\"dataframe\">\n",
       "  <thead>\n",
       "    <tr style=\"text-align: right;\">\n",
       "      <th></th>\n",
       "      <th>Restaurant State</th>\n",
       "      <th>Restaurant Name</th>\n",
       "      <th>Restaurant Rating</th>\n",
       "      <th>Restaurant Review</th>\n",
       "    </tr>\n",
       "  </thead>\n",
       "  <tbody>\n",
       "    <tr>\n",
       "      <th>0</th>\n",
       "      <td>WV</td>\n",
       "      <td>Subway</td>\n",
       "      <td>3.0</td>\n",
       "      <td>5</td>\n",
       "    </tr>\n",
       "    <tr>\n",
       "      <th>1</th>\n",
       "      <td>WV</td>\n",
       "      <td>Subway</td>\n",
       "      <td>1.5</td>\n",
       "      <td>3</td>\n",
       "    </tr>\n",
       "    <tr>\n",
       "      <th>2</th>\n",
       "      <td>WV</td>\n",
       "      <td>Subway</td>\n",
       "      <td>1.0</td>\n",
       "      <td>1</td>\n",
       "    </tr>\n",
       "    <tr>\n",
       "      <th>3</th>\n",
       "      <td>WV</td>\n",
       "      <td>Subway</td>\n",
       "      <td>4.5</td>\n",
       "      <td>3</td>\n",
       "    </tr>\n",
       "    <tr>\n",
       "      <th>4</th>\n",
       "      <td>WV</td>\n",
       "      <td>Subway</td>\n",
       "      <td>1.5</td>\n",
       "      <td>2</td>\n",
       "    </tr>\n",
       "  </tbody>\n",
       "</table>\n",
       "</div>"
      ],
      "text/plain": [
       "  Restaurant State Restaurant Name  Restaurant Rating  Restaurant Review\n",
       "0               WV          Subway                3.0                  5\n",
       "1               WV          Subway                1.5                  3\n",
       "2               WV          Subway                1.0                  1\n",
       "3               WV          Subway                4.5                  3\n",
       "4               WV          Subway                1.5                  2"
      ]
     },
     "execution_count": 39,
     "metadata": {},
     "output_type": "execute_result"
    }
   ],
   "source": [
    "# Display dataframe\n",
    "healthy_restaurants.head()"
   ]
  },
  {
   "cell_type": "code",
   "execution_count": 40,
   "metadata": {},
   "outputs": [
    {
     "data": {
      "text/html": [
       "<div>\n",
       "<style scoped>\n",
       "    .dataframe tbody tr th:only-of-type {\n",
       "        vertical-align: middle;\n",
       "    }\n",
       "\n",
       "    .dataframe tbody tr th {\n",
       "        vertical-align: top;\n",
       "    }\n",
       "\n",
       "    .dataframe thead th {\n",
       "        text-align: right;\n",
       "    }\n",
       "</style>\n",
       "<table border=\"1\" class=\"dataframe\">\n",
       "  <thead>\n",
       "    <tr style=\"text-align: right;\">\n",
       "      <th></th>\n",
       "      <th>Restaurant State</th>\n",
       "      <th>Rating Average</th>\n",
       "    </tr>\n",
       "  </thead>\n",
       "  <tbody>\n",
       "    <tr>\n",
       "      <th>0</th>\n",
       "      <td>AK</td>\n",
       "      <td>3.26875</td>\n",
       "    </tr>\n",
       "    <tr>\n",
       "      <th>1</th>\n",
       "      <td>AL</td>\n",
       "      <td>2.11875</td>\n",
       "    </tr>\n",
       "    <tr>\n",
       "      <th>2</th>\n",
       "      <td>AR</td>\n",
       "      <td>2.89375</td>\n",
       "    </tr>\n",
       "    <tr>\n",
       "      <th>3</th>\n",
       "      <td>AZ</td>\n",
       "      <td>1.96875</td>\n",
       "    </tr>\n",
       "    <tr>\n",
       "      <th>4</th>\n",
       "      <td>CA</td>\n",
       "      <td>2.31250</td>\n",
       "    </tr>\n",
       "  </tbody>\n",
       "</table>\n",
       "</div>"
      ],
      "text/plain": [
       "  Restaurant State  Rating Average\n",
       "0               AK         3.26875\n",
       "1               AL         2.11875\n",
       "2               AR         2.89375\n",
       "3               AZ         1.96875\n",
       "4               CA         2.31250"
      ]
     },
     "execution_count": 40,
     "metadata": {},
     "output_type": "execute_result"
    }
   ],
   "source": [
    "# Calculate rating average by state for unhealthy restaurants\n",
    "unhealthy_restaurants_grp = unhealthy_restaurants.groupby(\"Restaurant State\")\n",
    "unhealthy_restaurants_avg = unhealthy_restaurants_grp[\"Restaurant Rating\"].mean()\n",
    "unhealthy = unhealthy_restaurants_avg.to_frame()\n",
    "unhealthy.columns = [\"Rating Average\"]\n",
    "unhealthy = unhealthy.reset_index() \n",
    "unhealthy.head()"
   ]
  },
  {
   "cell_type": "code",
   "execution_count": 41,
   "metadata": {},
   "outputs": [
    {
     "data": {
      "text/html": [
       "<div>\n",
       "<style scoped>\n",
       "    .dataframe tbody tr th:only-of-type {\n",
       "        vertical-align: middle;\n",
       "    }\n",
       "\n",
       "    .dataframe tbody tr th {\n",
       "        vertical-align: top;\n",
       "    }\n",
       "\n",
       "    .dataframe thead th {\n",
       "        text-align: right;\n",
       "    }\n",
       "</style>\n",
       "<table border=\"1\" class=\"dataframe\">\n",
       "  <thead>\n",
       "    <tr style=\"text-align: right;\">\n",
       "      <th></th>\n",
       "      <th>Restaurant State</th>\n",
       "      <th>Rating Average</th>\n",
       "    </tr>\n",
       "  </thead>\n",
       "  <tbody>\n",
       "    <tr>\n",
       "      <th>0</th>\n",
       "      <td>AK</td>\n",
       "      <td>3.585366</td>\n",
       "    </tr>\n",
       "    <tr>\n",
       "      <th>1</th>\n",
       "      <td>AL</td>\n",
       "      <td>3.534091</td>\n",
       "    </tr>\n",
       "    <tr>\n",
       "      <th>2</th>\n",
       "      <td>AR</td>\n",
       "      <td>3.365854</td>\n",
       "    </tr>\n",
       "    <tr>\n",
       "      <th>3</th>\n",
       "      <td>AZ</td>\n",
       "      <td>3.200000</td>\n",
       "    </tr>\n",
       "    <tr>\n",
       "      <th>4</th>\n",
       "      <td>CA</td>\n",
       "      <td>3.159574</td>\n",
       "    </tr>\n",
       "  </tbody>\n",
       "</table>\n",
       "</div>"
      ],
      "text/plain": [
       "  Restaurant State  Rating Average\n",
       "0               AK        3.585366\n",
       "1               AL        3.534091\n",
       "2               AR        3.365854\n",
       "3               AZ        3.200000\n",
       "4               CA        3.159574"
      ]
     },
     "execution_count": 41,
     "metadata": {},
     "output_type": "execute_result"
    }
   ],
   "source": [
    "# Calculate rating average by state for healthy restaurants\n",
    "healthy_restaurants_grp = healthy_restaurants.groupby(\"Restaurant State\")\n",
    "healthy_restaurants_avg = healthy_restaurants_grp[\"Restaurant Rating\"].mean()\n",
    "healthy = healthy_restaurants_avg.to_frame()\n",
    "healthy.columns = [\"Rating Average\"]\n",
    "healthy = healthy.reset_index() \n",
    "healthy.head()"
   ]
  },
  {
   "cell_type": "code",
   "execution_count": 42,
   "metadata": {},
   "outputs": [
    {
     "data": {
      "text/html": [
       "<div>\n",
       "<style scoped>\n",
       "    .dataframe tbody tr th:only-of-type {\n",
       "        vertical-align: middle;\n",
       "    }\n",
       "\n",
       "    .dataframe tbody tr th {\n",
       "        vertical-align: top;\n",
       "    }\n",
       "\n",
       "    .dataframe thead th {\n",
       "        text-align: right;\n",
       "    }\n",
       "</style>\n",
       "<table border=\"1\" class=\"dataframe\">\n",
       "  <thead>\n",
       "    <tr style=\"text-align: right;\">\n",
       "      <th></th>\n",
       "      <th>Year</th>\n",
       "      <th>Location</th>\n",
       "      <th>Obesity Percentage</th>\n",
       "      <th>Rating Average</th>\n",
       "    </tr>\n",
       "  </thead>\n",
       "  <tbody>\n",
       "    <tr>\n",
       "      <th>0</th>\n",
       "      <td>2017</td>\n",
       "      <td>WV</td>\n",
       "      <td>38.1</td>\n",
       "      <td>3.10625</td>\n",
       "    </tr>\n",
       "    <tr>\n",
       "      <th>1</th>\n",
       "      <td>2017</td>\n",
       "      <td>MS</td>\n",
       "      <td>37.3</td>\n",
       "      <td>2.91875</td>\n",
       "    </tr>\n",
       "    <tr>\n",
       "      <th>2</th>\n",
       "      <td>2017</td>\n",
       "      <td>OK</td>\n",
       "      <td>36.5</td>\n",
       "      <td>2.21875</td>\n",
       "    </tr>\n",
       "    <tr>\n",
       "      <th>3</th>\n",
       "      <td>2017</td>\n",
       "      <td>IA</td>\n",
       "      <td>36.4</td>\n",
       "      <td>3.01250</td>\n",
       "    </tr>\n",
       "    <tr>\n",
       "      <th>4</th>\n",
       "      <td>2017</td>\n",
       "      <td>AL</td>\n",
       "      <td>36.3</td>\n",
       "      <td>2.11875</td>\n",
       "    </tr>\n",
       "  </tbody>\n",
       "</table>\n",
       "</div>"
      ],
      "text/plain": [
       "   Year Location  Obesity Percentage  Rating Average\n",
       "0  2017       WV                38.1         3.10625\n",
       "1  2017       MS                37.3         2.91875\n",
       "2  2017       OK                36.5         2.21875\n",
       "3  2017       IA                36.4         3.01250\n",
       "4  2017       AL                36.3         2.11875"
      ]
     },
     "execution_count": 42,
     "metadata": {},
     "output_type": "execute_result"
    }
   ],
   "source": [
    "# Merge states dataframe and unhealthy dataframe\n",
    "state_unhealthy = pd.merge(df_states_2017, unhealthy, left_on = 'Location', right_on = 'Restaurant State')\n",
    "state_unhealthy = state_unhealthy.drop('Restaurant State', axis = 1)\n",
    "state_unhealthy.head()"
   ]
  },
  {
   "cell_type": "code",
   "execution_count": 43,
   "metadata": {},
   "outputs": [
    {
     "data": {
      "text/html": [
       "<div>\n",
       "<style scoped>\n",
       "    .dataframe tbody tr th:only-of-type {\n",
       "        vertical-align: middle;\n",
       "    }\n",
       "\n",
       "    .dataframe tbody tr th {\n",
       "        vertical-align: top;\n",
       "    }\n",
       "\n",
       "    .dataframe thead th {\n",
       "        text-align: right;\n",
       "    }\n",
       "</style>\n",
       "<table border=\"1\" class=\"dataframe\">\n",
       "  <thead>\n",
       "    <tr style=\"text-align: right;\">\n",
       "      <th></th>\n",
       "      <th>Year</th>\n",
       "      <th>Location</th>\n",
       "      <th>Obesity Percentage</th>\n",
       "      <th>Rating Average</th>\n",
       "    </tr>\n",
       "  </thead>\n",
       "  <tbody>\n",
       "    <tr>\n",
       "      <th>0</th>\n",
       "      <td>2017</td>\n",
       "      <td>WV</td>\n",
       "      <td>38.1</td>\n",
       "      <td>3.525000</td>\n",
       "    </tr>\n",
       "    <tr>\n",
       "      <th>1</th>\n",
       "      <td>2017</td>\n",
       "      <td>MS</td>\n",
       "      <td>37.3</td>\n",
       "      <td>3.170732</td>\n",
       "    </tr>\n",
       "    <tr>\n",
       "      <th>2</th>\n",
       "      <td>2017</td>\n",
       "      <td>OK</td>\n",
       "      <td>36.5</td>\n",
       "      <td>3.600000</td>\n",
       "    </tr>\n",
       "    <tr>\n",
       "      <th>3</th>\n",
       "      <td>2017</td>\n",
       "      <td>IA</td>\n",
       "      <td>36.4</td>\n",
       "      <td>3.595745</td>\n",
       "    </tr>\n",
       "    <tr>\n",
       "      <th>4</th>\n",
       "      <td>2017</td>\n",
       "      <td>AL</td>\n",
       "      <td>36.3</td>\n",
       "      <td>3.534091</td>\n",
       "    </tr>\n",
       "  </tbody>\n",
       "</table>\n",
       "</div>"
      ],
      "text/plain": [
       "   Year Location  Obesity Percentage  Rating Average\n",
       "0  2017       WV                38.1        3.525000\n",
       "1  2017       MS                37.3        3.170732\n",
       "2  2017       OK                36.5        3.600000\n",
       "3  2017       IA                36.4        3.595745\n",
       "4  2017       AL                36.3        3.534091"
      ]
     },
     "execution_count": 43,
     "metadata": {},
     "output_type": "execute_result"
    }
   ],
   "source": [
    "# Merge states dataframe and healthy dataframe\n",
    "state_healthy = pd.merge(df_states_2017, healthy, left_on = 'Location', right_on = 'Restaurant State')\n",
    "state_healthy = state_healthy.drop('Restaurant State', axis = 1)\n",
    "state_healthy.head()"
   ]
  },
  {
   "cell_type": "code",
   "execution_count": 52,
   "metadata": {},
   "outputs": [
    {
     "data": {
      "image/png": "[encoded data removed]",
      "text/plain": [
       "<Figure size 1152x360 with 2 Axes>"
      ]
     },
     "metadata": {
      "needs_background": "light"
     },
     "output_type": "display_data"
    }
   ],
   "source": [
    "# Scatter plots\n",
    "fig, ax = plt.subplots(1,2, figsize= (16,5), sharey = True)\n",
    "\n",
    "state_unhealthy.plot(kind='scatter', x = 'Obesity Percentage', y = 'Rating Average', ax = ax[0])\n",
    "state_healthy.plot(kind='scatter', x = 'Obesity Percentage', y = 'Rating Average', ax = ax[1])\n",
    "\n",
    "# Set Titles\n",
    "ax[0].set_title('Unhealty Restaurant Ratings x Obesity', weight = 'bold', size = 15, loc = 'center')\n",
    "ax[1].set_title('Healty Restaurant Ratings x Obesity', weight = 'bold', size = 15, loc = 'center')\n",
    "\n",
    "# Set x-axis label\n",
    "ax[0].set_xlabel(\"Obesity Percentages\", labelpad=10, weight='bold', size=12)\n",
    "ax[1].set_xlabel(\"Obesity Percentages\", labelpad=10, weight='bold', size=12)\n",
    "\n",
    "# Set y-axis label\n",
    "ax[0].set_ylabel(\"Average Ratings\", labelpad=10, weight='bold', size=12)\n",
    "\n",
    "# Save Figures\n",
    "figure_path = os.path.join('images','US_Obesity_x_Rating')\n",
    "plt.savefig(figure_path)\n",
    "\n",
    "plt.show()"
   ]
  },
  {
   "cell_type": "markdown",
   "metadata": {},
   "source": [
    "### Look for relationships between State Ranking and Restaurant Ratings"
   ]
  },
  {
   "cell_type": "code",
   "execution_count": 53,
   "metadata": {},
   "outputs": [],
   "source": [
    "# Select states to analyze\n",
    "Top5_states = df_top5_states.index\n",
    "Bottom5_states = df_bottom5_states.index"
   ]
  },
  {
   "cell_type": "code",
   "execution_count": 54,
   "metadata": {},
   "outputs": [],
   "source": [
    "# Read in Unhealthy restaurants in Top 5 states\n",
    "rating = []\n",
    "review_count = []\n",
    "restaurant_name = []\n",
    "restaurant_state = []\n",
    "\n",
    "# Loop through Top 5 states and unhealthy restaurants\n",
    "for state in Top5_states:\n",
    "    for Unhealthy in Top4_Unhealthy:\n",
    "        response = yelp_api.search_query(term=Unhealthy, location= state)\n",
    "        for row in range (len(response[\"businesses\"])):\n",
    "            rating.append(response[\"businesses\"][row][\"rating\"])\n",
    "            review_count.append(response[\"businesses\"][row][\"review_count\"])\n",
    "            restaurant_name.append(Unhealthy)\n",
    "            restaurant_state.append(state)\n",
    "\n",
    "# Create DataFrame\n",
    "TOP5UNHEALTHY_restaurants = pd.DataFrame({\"Restaurant State\": restaurant_state, \"Restaurant Name\": restaurant_name,\n",
    "                                         \"Restaurant Rating\": rating, \"Restaurant Review\": review_count})"
   ]
  },
  {
   "cell_type": "code",
   "execution_count": 55,
   "metadata": {},
   "outputs": [
    {
     "data": {
      "text/html": [
       "<div>\n",
       "<style scoped>\n",
       "    .dataframe tbody tr th:only-of-type {\n",
       "        vertical-align: middle;\n",
       "    }\n",
       "\n",
       "    .dataframe tbody tr th {\n",
       "        vertical-align: top;\n",
       "    }\n",
       "\n",
       "    .dataframe thead th {\n",
       "        text-align: right;\n",
       "    }\n",
       "</style>\n",
       "<table border=\"1\" class=\"dataframe\">\n",
       "  <thead>\n",
       "    <tr style=\"text-align: right;\">\n",
       "      <th></th>\n",
       "      <th>Restaurant State</th>\n",
       "      <th>Restaurant Name</th>\n",
       "      <th>Restaurant Rating</th>\n",
       "      <th>Restaurant Review</th>\n",
       "    </tr>\n",
       "  </thead>\n",
       "  <tbody>\n",
       "    <tr>\n",
       "      <th>0</th>\n",
       "      <td>AL</td>\n",
       "      <td>McDonalds</td>\n",
       "      <td>1.5</td>\n",
       "      <td>8</td>\n",
       "    </tr>\n",
       "    <tr>\n",
       "      <th>1</th>\n",
       "      <td>AL</td>\n",
       "      <td>McDonalds</td>\n",
       "      <td>1.5</td>\n",
       "      <td>29</td>\n",
       "    </tr>\n",
       "    <tr>\n",
       "      <th>2</th>\n",
       "      <td>AL</td>\n",
       "      <td>McDonalds</td>\n",
       "      <td>1.5</td>\n",
       "      <td>31</td>\n",
       "    </tr>\n",
       "    <tr>\n",
       "      <th>3</th>\n",
       "      <td>AL</td>\n",
       "      <td>McDonalds</td>\n",
       "      <td>1.5</td>\n",
       "      <td>19</td>\n",
       "    </tr>\n",
       "    <tr>\n",
       "      <th>4</th>\n",
       "      <td>AL</td>\n",
       "      <td>McDonalds</td>\n",
       "      <td>1.5</td>\n",
       "      <td>18</td>\n",
       "    </tr>\n",
       "  </tbody>\n",
       "</table>\n",
       "</div>"
      ],
      "text/plain": [
       "  Restaurant State Restaurant Name  Restaurant Rating  Restaurant Review\n",
       "0               AL       McDonalds                1.5                  8\n",
       "1               AL       McDonalds                1.5                 29\n",
       "2               AL       McDonalds                1.5                 31\n",
       "3               AL       McDonalds                1.5                 19\n",
       "4               AL       McDonalds                1.5                 18"
      ]
     },
     "execution_count": 55,
     "metadata": {},
     "output_type": "execute_result"
    }
   ],
   "source": [
    "# Display DataFrame\n",
    "TOP5UNHEALTHY_restaurants.head()"
   ]
  },
  {
   "cell_type": "code",
   "execution_count": 56,
   "metadata": {},
   "outputs": [],
   "source": [
    "# Read in Unhealthy restaurants in Bottom 5 states\n",
    "rating = []\n",
    "review_count = []\n",
    "restaurant_name = []\n",
    "restaurant_state = []\n",
    "\n",
    "# Loop through Bottom 5 states and unhealthy restaurants\n",
    "for state in Bottom5_states:\n",
    "    for Unhealthy in Top4_Unhealthy:\n",
    "        response = yelp_api.search_query(term=Unhealthy, location= state)\n",
    "        for row in range (len(response[\"businesses\"])):\n",
    "            rating.append(response[\"businesses\"][row][\"rating\"])\n",
    "            review_count.append(response[\"businesses\"][row][\"review_count\"])\n",
    "            restaurant_name.append(Unhealthy)\n",
    "            restaurant_state.append(state)\n",
    "\n",
    "# Create DataFrame\n",
    "BOTTOM5UNHEALTHY_restaurants = pd.DataFrame({\"Restaurant State\": restaurant_state, \"Restaurant Name\": restaurant_name,\n",
    "                                         \"Restaurant Rating\": rating, \"Restaurant Review\": review_count})"
   ]
  },
  {
   "cell_type": "code",
   "execution_count": 57,
   "metadata": {},
   "outputs": [
    {
     "data": {
      "text/html": [
       "<div>\n",
       "<style scoped>\n",
       "    .dataframe tbody tr th:only-of-type {\n",
       "        vertical-align: middle;\n",
       "    }\n",
       "\n",
       "    .dataframe tbody tr th {\n",
       "        vertical-align: top;\n",
       "    }\n",
       "\n",
       "    .dataframe thead th {\n",
       "        text-align: right;\n",
       "    }\n",
       "</style>\n",
       "<table border=\"1\" class=\"dataframe\">\n",
       "  <thead>\n",
       "    <tr style=\"text-align: right;\">\n",
       "      <th></th>\n",
       "      <th>Restaurant State</th>\n",
       "      <th>Restaurant Name</th>\n",
       "      <th>Restaurant Rating</th>\n",
       "      <th>Restaurant Review</th>\n",
       "    </tr>\n",
       "  </thead>\n",
       "  <tbody>\n",
       "    <tr>\n",
       "      <th>0</th>\n",
       "      <td>CO</td>\n",
       "      <td>McDonalds</td>\n",
       "      <td>2.0</td>\n",
       "      <td>57</td>\n",
       "    </tr>\n",
       "    <tr>\n",
       "      <th>1</th>\n",
       "      <td>CO</td>\n",
       "      <td>McDonalds</td>\n",
       "      <td>1.5</td>\n",
       "      <td>44</td>\n",
       "    </tr>\n",
       "    <tr>\n",
       "      <th>2</th>\n",
       "      <td>CO</td>\n",
       "      <td>McDonalds</td>\n",
       "      <td>1.5</td>\n",
       "      <td>41</td>\n",
       "    </tr>\n",
       "    <tr>\n",
       "      <th>3</th>\n",
       "      <td>CO</td>\n",
       "      <td>McDonalds</td>\n",
       "      <td>2.0</td>\n",
       "      <td>47</td>\n",
       "    </tr>\n",
       "    <tr>\n",
       "      <th>4</th>\n",
       "      <td>CO</td>\n",
       "      <td>McDonalds</td>\n",
       "      <td>2.5</td>\n",
       "      <td>5</td>\n",
       "    </tr>\n",
       "  </tbody>\n",
       "</table>\n",
       "</div>"
      ],
      "text/plain": [
       "  Restaurant State Restaurant Name  Restaurant Rating  Restaurant Review\n",
       "0               CO       McDonalds                2.0                 57\n",
       "1               CO       McDonalds                1.5                 44\n",
       "2               CO       McDonalds                1.5                 41\n",
       "3               CO       McDonalds                2.0                 47\n",
       "4               CO       McDonalds                2.5                  5"
      ]
     },
     "execution_count": 57,
     "metadata": {},
     "output_type": "execute_result"
    }
   ],
   "source": [
    "# Display DataFrame\n",
    "BOTTOM5UNHEALTHY_restaurants.head()"
   ]
  },
  {
   "cell_type": "code",
   "execution_count": 58,
   "metadata": {},
   "outputs": [],
   "source": [
    "# Read in Healthy restaurants in Top 5 states\n",
    "rating = []\n",
    "review_count = []\n",
    "restaurant_name = []\n",
    "restaurant_state = []\n",
    "\n",
    "# Loop through Top 5 states and healthy restaurants\n",
    "for state in Top5_states:\n",
    "    for Healthy in Top4_Healthy:\n",
    "        response = yelp_api.search_query(term=Healthy, location= state)\n",
    "        for row in range (len(response[\"businesses\"])):\n",
    "            rating.append(response[\"businesses\"][row][\"rating\"])\n",
    "            review_count.append(response[\"businesses\"][row][\"review_count\"])\n",
    "            restaurant_name.append(Healthy)\n",
    "            restaurant_state.append(state)\n",
    "\n",
    "# Create DataFrame\n",
    "TOP5HEALTHY_restaurants = pd.DataFrame({\"Restaurant State\": restaurant_state, \"Restaurant Name\": restaurant_name,\n",
    "                                         \"Restaurant Rating\": rating, \"Restaurant Review\": review_count})"
   ]
  },
  {
   "cell_type": "code",
   "execution_count": 59,
   "metadata": {},
   "outputs": [
    {
     "data": {
      "text/html": [
       "<div>\n",
       "<style scoped>\n",
       "    .dataframe tbody tr th:only-of-type {\n",
       "        vertical-align: middle;\n",
       "    }\n",
       "\n",
       "    .dataframe tbody tr th {\n",
       "        vertical-align: top;\n",
       "    }\n",
       "\n",
       "    .dataframe thead th {\n",
       "        text-align: right;\n",
       "    }\n",
       "</style>\n",
       "<table border=\"1\" class=\"dataframe\">\n",
       "  <thead>\n",
       "    <tr style=\"text-align: right;\">\n",
       "      <th></th>\n",
       "      <th>Restaurant State</th>\n",
       "      <th>Restaurant Name</th>\n",
       "      <th>Restaurant Rating</th>\n",
       "      <th>Restaurant Review</th>\n",
       "    </tr>\n",
       "  </thead>\n",
       "  <tbody>\n",
       "    <tr>\n",
       "      <th>0</th>\n",
       "      <td>AL</td>\n",
       "      <td>Chiptole</td>\n",
       "      <td>3.0</td>\n",
       "      <td>206</td>\n",
       "    </tr>\n",
       "    <tr>\n",
       "      <th>1</th>\n",
       "      <td>AL</td>\n",
       "      <td>Subway</td>\n",
       "      <td>4.0</td>\n",
       "      <td>4</td>\n",
       "    </tr>\n",
       "    <tr>\n",
       "      <th>2</th>\n",
       "      <td>AL</td>\n",
       "      <td>Subway</td>\n",
       "      <td>1.0</td>\n",
       "      <td>2</td>\n",
       "    </tr>\n",
       "    <tr>\n",
       "      <th>3</th>\n",
       "      <td>AL</td>\n",
       "      <td>Subway</td>\n",
       "      <td>2.5</td>\n",
       "      <td>5</td>\n",
       "    </tr>\n",
       "    <tr>\n",
       "      <th>4</th>\n",
       "      <td>AL</td>\n",
       "      <td>Subway</td>\n",
       "      <td>4.0</td>\n",
       "      <td>5</td>\n",
       "    </tr>\n",
       "  </tbody>\n",
       "</table>\n",
       "</div>"
      ],
      "text/plain": [
       "  Restaurant State Restaurant Name  Restaurant Rating  Restaurant Review\n",
       "0               AL        Chiptole                3.0                206\n",
       "1               AL          Subway                4.0                  4\n",
       "2               AL          Subway                1.0                  2\n",
       "3               AL          Subway                2.5                  5\n",
       "4               AL          Subway                4.0                  5"
      ]
     },
     "execution_count": 59,
     "metadata": {},
     "output_type": "execute_result"
    }
   ],
   "source": [
    "# Display DataFrame DataFrame\n",
    "TOP5HEALTHY_restaurants.head()"
   ]
  },
  {
   "cell_type": "code",
   "execution_count": 60,
   "metadata": {},
   "outputs": [],
   "source": [
    "# Read in Healthy restaurants in Bottom 5 states\n",
    "rating = []\n",
    "review_count = []\n",
    "restaurant_name = []\n",
    "restaurant_state = []\n",
    "\n",
    "# Loop through Bottom 5 states and healthy restaurants\n",
    "for state in Bottom5_states:\n",
    "    for Healthy in Top4_Healthy:\n",
    "        response = yelp_api.search_query(term=Healthy, location= state)\n",
    "        for row in range (len(response[\"businesses\"])):\n",
    "            rating.append(response[\"businesses\"][row][\"rating\"])\n",
    "            review_count.append(response[\"businesses\"][row][\"review_count\"])\n",
    "            restaurant_name.append(Healthy)\n",
    "            restaurant_state.append(state)\n",
    "\n",
    "# Create DataFrame\n",
    "BOTTOM5HEALTHY_restaurants = pd.DataFrame({\"Restaurant State\": restaurant_state, \"Restaurant Name\": restaurant_name,\n",
    "                                         \"Restaurant Rating\": rating, \"Restaurant Review\": review_count})"
   ]
  },
  {
   "cell_type": "code",
   "execution_count": 61,
   "metadata": {},
   "outputs": [
    {
     "data": {
      "text/html": [
       "<div>\n",
       "<style scoped>\n",
       "    .dataframe tbody tr th:only-of-type {\n",
       "        vertical-align: middle;\n",
       "    }\n",
       "\n",
       "    .dataframe tbody tr th {\n",
       "        vertical-align: top;\n",
       "    }\n",
       "\n",
       "    .dataframe thead th {\n",
       "        text-align: right;\n",
       "    }\n",
       "</style>\n",
       "<table border=\"1\" class=\"dataframe\">\n",
       "  <thead>\n",
       "    <tr style=\"text-align: right;\">\n",
       "      <th></th>\n",
       "      <th>Restaurant State</th>\n",
       "      <th>Restaurant Name</th>\n",
       "      <th>Restaurant Rating</th>\n",
       "      <th>Restaurant Review</th>\n",
       "    </tr>\n",
       "  </thead>\n",
       "  <tbody>\n",
       "    <tr>\n",
       "      <th>0</th>\n",
       "      <td>CO</td>\n",
       "      <td>Chiptole</td>\n",
       "      <td>3.5</td>\n",
       "      <td>84</td>\n",
       "    </tr>\n",
       "    <tr>\n",
       "      <th>1</th>\n",
       "      <td>CO</td>\n",
       "      <td>Chiptole</td>\n",
       "      <td>3.0</td>\n",
       "      <td>44</td>\n",
       "    </tr>\n",
       "    <tr>\n",
       "      <th>2</th>\n",
       "      <td>CO</td>\n",
       "      <td>Chiptole</td>\n",
       "      <td>3.5</td>\n",
       "      <td>25</td>\n",
       "    </tr>\n",
       "    <tr>\n",
       "      <th>3</th>\n",
       "      <td>CO</td>\n",
       "      <td>Chiptole</td>\n",
       "      <td>3.0</td>\n",
       "      <td>32</td>\n",
       "    </tr>\n",
       "    <tr>\n",
       "      <th>4</th>\n",
       "      <td>CO</td>\n",
       "      <td>Chiptole</td>\n",
       "      <td>3.5</td>\n",
       "      <td>39</td>\n",
       "    </tr>\n",
       "  </tbody>\n",
       "</table>\n",
       "</div>"
      ],
      "text/plain": [
       "  Restaurant State Restaurant Name  Restaurant Rating  Restaurant Review\n",
       "0               CO        Chiptole                3.5                 84\n",
       "1               CO        Chiptole                3.0                 44\n",
       "2               CO        Chiptole                3.5                 25\n",
       "3               CO        Chiptole                3.0                 32\n",
       "4               CO        Chiptole                3.5                 39"
      ]
     },
     "execution_count": 61,
     "metadata": {},
     "output_type": "execute_result"
    }
   ],
   "source": [
    "# Display DataFrame\n",
    "BOTTOM5HEALTHY_restaurants.head()"
   ]
  },
  {
   "cell_type": "markdown",
   "metadata": {},
   "source": [
    "## Hypothesis: In the Top5 obese states, do unhealthy restaurants have greater ratings than healthy restaurants.\n",
    "\n",
    "## Null hypothesis: Unhealthy and healthy restaurants in Top5 obese states have the same ratings"
   ]
  },
  {
   "cell_type": "code",
   "execution_count": 95,
   "metadata": {},
   "outputs": [
    {
     "data": {
      "image/png": "[encoded data removed]",
      "text/plain": [
       "<Figure size 1152x360 with 2 Axes>"
      ]
     },
     "metadata": {
      "needs_background": "light"
     },
     "output_type": "display_data"
    }
   ],
   "source": [
    "# Creat subplots\n",
    "fig, ax = plt.subplots(1,2, figsize= (16,5), sharey = True)\n",
    "\n",
    "# Create a boxplot to compare means for Unhealthy Restaurants in Top5 States\n",
    "TOP5UNHEALTHY_restaurants.boxplot(\"Restaurant Rating\", by=\"Restaurant State\", ax = ax[0])\n",
    "TOP5HEALTHY_restaurants.boxplot(\"Restaurant Rating\", by=\"Restaurant State\", ax = ax[1])\n",
    "plt.suptitle(\"\")\n",
    "\n",
    "# Set Titles\n",
    "ax[0].set_title('Unhealthy Restaurants in Top5 Obese States', weight = 'bold', size = 15, loc = 'center')\n",
    "ax[1].set_title('Healthy Restaurants in Top5 Obese States', weight = 'bold', size = 15, loc = 'center')\n",
    "\n",
    "# Set x-axis label\n",
    "ax[0].set_xlabel(\"Restaurant States\", labelpad=10, weight='bold', size=12)\n",
    "ax[1].set_xlabel(\"Restaurant States\", labelpad=10, weight='bold', size=12)\n",
    "\n",
    "# Set y-axis label\n",
    "ax[0].set_ylabel(\"Average Ratings\", labelpad=10, weight='bold', size=12)\n",
    "\n",
    "# Save Figures\n",
    "figure_path = os.path.join('images','Top5_Healthy_x_Unhealthy_Boxplot')\n",
    "plt.savefig(figure_path)\n",
    "\n",
    "plt.show()"
   ]
  },
  {
   "cell_type": "code",
   "execution_count": 84,
   "metadata": {},
   "outputs": [
    {
     "name": "stdout",
     "output_type": "stream",
     "text": [
      "Statistic value: 8.4589\n",
      "P-value value: 0.0000000000000003\n"
     ]
    }
   ],
   "source": [
    "# Test if the ratings are different\n",
    "results =stats.ttest_ind(TOP5HEALTHY_restaurants[\"Restaurant Rating\"], \n",
    "                         TOP5UNHEALTHY_restaurants[\"Restaurant Rating\"], equal_var=False)\n",
    "print(f\"Statistic value: {results.statistic:.4f}\")\n",
    "print(f\"P-value value: {results.pvalue:.16f}\")"
   ]
  },
  {
   "cell_type": "markdown",
   "metadata": {},
   "source": [
    "### Based on the pvalue of the Ttest, we reject the null hypothesis, so Healthy and Unhealthy restaurants in Top5 Obese States have different rating averages.\n",
    "### Based on the statistic value of the Ttest, we notice that Healthy restaurants have greater Ratings than Unhealthy restaurants in Top5 Obese States.\n",
    "# ----------------------------------------------------------------------------------------"
   ]
  },
  {
   "cell_type": "markdown",
   "metadata": {},
   "source": [
    "## Hypothesis: In the Bottom5 obese states, do healthy restaurants have greater ratings than unhealthy restaurants.\n",
    "\n",
    "## Null hypothesis: Unhealthy and healthy restaurants in Bottom5 obese states have the same ratings"
   ]
  },
  {
   "cell_type": "code",
   "execution_count": 96,
   "metadata": {},
   "outputs": [
    {
     "data": {
      "image/png": "[encoded data removed]",
      "text/plain": [
       "<Figure size 1152x360 with 2 Axes>"
      ]
     },
     "metadata": {
      "needs_background": "light"
     },
     "output_type": "display_data"
    }
   ],
   "source": [
    "# Creat subplots\n",
    "fig, ax = plt.subplots(1,2, figsize= (16,5), sharey = True)\n",
    "\n",
    "# Create a boxplot to compare means for Unhealthy Restaurants in Bottom5 States\n",
    "BOTTOM5UNHEALTHY_restaurants.boxplot(\"Restaurant Rating\", by=\"Restaurant State\", ax = ax[0])\n",
    "BOTTOM5HEALTHY_restaurants.boxplot(\"Restaurant Rating\", by=\"Restaurant State\", ax = ax[1])\n",
    "plt.suptitle(\"\")\n",
    "\n",
    "# Set Titles\n",
    "ax[0].set_title('Unhealthy Restaurants in Bottom5 Obese States', weight = 'bold', size = 14, loc = 'center')\n",
    "ax[1].set_title('Healthy Restaurants in Bottom5 Obese States', weight = 'bold', size = 14, loc = 'center')\n",
    "\n",
    "# Set x-axis label\n",
    "ax[0].set_xlabel(\"Restaurant States\", labelpad=10, weight='bold', size=12)\n",
    "ax[1].set_xlabel(\"Restaurant States\", labelpad=10, weight='bold', size=12)\n",
    "\n",
    "# Set y-axis label\n",
    "ax[0].set_ylabel(\"Average Ratings\", labelpad=10, weight='bold', size=12)\n",
    "\n",
    "# Save Figures\n",
    "figure_path = os.path.join('images','Bottom5_Healthy_x_Unhealthy_Boxplot')\n",
    "plt.savefig(figure_path)\n",
    "\n",
    "plt.show()"
   ]
  },
  {
   "cell_type": "code",
   "execution_count": 93,
   "metadata": {},
   "outputs": [
    {
     "name": "stdout",
     "output_type": "stream",
     "text": [
      "Statistic value: 12.7515\n",
      "P-value value: 0.0000000000000000\n"
     ]
    }
   ],
   "source": [
    "# Test if the ratings are different\n",
    "results = stats.ttest_ind(BOTTOM5HEALTHY_restaurants[\"Restaurant Rating\"], \n",
    "                          BOTTOM5UNHEALTHY_restaurants[\"Restaurant Rating\"], equal_var=False)\n",
    "print(f\"Statistic value: {results.statistic:.4f}\")\n",
    "print(f\"P-value value: {results.pvalue:.16f}\")"
   ]
  },
  {
   "cell_type": "markdown",
   "metadata": {},
   "source": [
    "### Based on the pvalue of the Ttest, we reject the null hypothesis, so Healthy and Unhealthy restaurants in Bottom5 Obese States have different rating averages.\n",
    "### Based on the statistic value of the Ttest, we notice that Healthy restaurants have greater Ratings than Unhealthy restaurants in Bottom5 Obese States.\n",
    "# ----------------------------------------------------------------------------------------"
   ]
  },
  {
   "cell_type": "markdown",
   "metadata": {},
   "source": [
    "## Hypothesis: For unhealthy restaurants, the Top5 obese states have greater ratings than the Bottom5 obese states.\n",
    "\n",
    "## Null hypothesis: Unhealthy restaurants in Top5 and Bottom5 obese states have the same ratings"
   ]
  },
  {
   "cell_type": "code",
   "execution_count": 97,
   "metadata": {},
   "outputs": [
    {
     "data": {
      "image/png": "[encoded data removed]",
      "text/plain": [
       "<Figure size 1152x360 with 2 Axes>"
      ]
     },
     "metadata": {
      "needs_background": "light"
     },
     "output_type": "display_data"
    }
   ],
   "source": [
    "# Creat subplots\n",
    "fig, ax = plt.subplots(1,2, figsize= (16,5), sharey = True)\n",
    "\n",
    "# Create a boxplot to compare means for Unhealthy Restaurants in Top5 and Bottom5 States\n",
    "TOP5UNHEALTHY_restaurants.boxplot(\"Restaurant Rating\", by=\"Restaurant State\", ax = ax[0])\n",
    "BOTTOM5UNHEALTHY_restaurants.boxplot(\"Restaurant Rating\", by=\"Restaurant State\", ax = ax[1])\n",
    "plt.suptitle(\"\")\n",
    "\n",
    "# Set Titles\n",
    "ax[0].set_title('Unhealthy Restaurants in Top5 Obese States', weight = 'bold', size = 14, loc = 'center')\n",
    "ax[1].set_title('Unhealthy Restaurants in Bottom5 Obese States', weight = 'bold', size = 14, loc = 'center')\n",
    "\n",
    "# Set x-axis label\n",
    "ax[0].set_xlabel(\"Restaurant States\", labelpad=10, weight='bold', size=12)\n",
    "ax[1].set_xlabel(\"Restaurant States\", labelpad=10, weight='bold', size=12)\n",
    "\n",
    "# Set y-axis label\n",
    "ax[0].set_ylabel(\"Average Ratings\", labelpad=10, weight='bold', size=12)\n",
    "\n",
    "# Save Figures\n",
    "figure_path = os.path.join('images','Unhealthy_Top5_x_Bottom5_Boxplot')\n",
    "plt.savefig(figure_path)\n",
    "\n",
    "plt.show()"
   ]
  },
  {
   "cell_type": "code",
   "execution_count": 98,
   "metadata": {},
   "outputs": [
    {
     "name": "stdout",
     "output_type": "stream",
     "text": [
      "Statistic value: 4.8157\n",
      "P-value value: 0.0000017848356705\n"
     ]
    }
   ],
   "source": [
    "# Test if the ratings are different\n",
    "results = stats.ttest_ind(TOP5UNHEALTHY_restaurants[\"Restaurant Rating\"], \n",
    "                          BOTTOM5UNHEALTHY_restaurants[\"Restaurant Rating\"], equal_var=False)\n",
    "print(f\"Statistic value: {results.statistic:.4f}\")\n",
    "print(f\"P-value value: {results.pvalue:.16f}\")"
   ]
  },
  {
   "cell_type": "markdown",
   "metadata": {},
   "source": [
    "### Based on the pvalue of the Ttest, we reject the null hypothesis, so Unhealthy restaurants in Top5 and Bottom5 Obese States have different rating averages.\n",
    "### Based on the statistic value of the Ttest, we notice that unhealthy restaurants have greater Ratings in Top5 obese states than in Bottom5 Obese States.\n",
    "# ----------------------------------------------------------------------------------------"
   ]
  },
  {
   "cell_type": "markdown",
   "metadata": {},
   "source": [
    "## Hypothesis: For healthy restaurants, the Bottom5 obese states have greater ratings than the Top5 obese states.\n",
    "\n",
    "## Null hypothesis: Healthy restaurants in Top5 and Bottom5 obese states have the same ratings"
   ]
  },
  {
   "cell_type": "code",
   "execution_count": 100,
   "metadata": {},
   "outputs": [
    {
     "data": {
      "image/png": "[encoded data removed]",
      "text/plain": [
       "<Figure size 1152x360 with 2 Axes>"
      ]
     },
     "metadata": {
      "needs_background": "light"
     },
     "output_type": "display_data"
    }
   ],
   "source": [
    "# Creat subplots\n",
    "fig, ax = plt.subplots(1,2, figsize= (16,5), sharey = True)\n",
    "\n",
    "# Create a boxplot to compare means for Healthy Restaurants in Top5 and Bottom5 States\n",
    "TOP5HEALTHY_restaurants.boxplot(\"Restaurant Rating\", by=\"Restaurant State\", ax = ax[0])\n",
    "BOTTOM5HEALTHY_restaurants.boxplot(\"Restaurant Rating\", by=\"Restaurant State\", ax = ax[1])\n",
    "plt.suptitle(\"\")\n",
    "\n",
    "# Set Titles\n",
    "ax[0].set_title('Healthy Restaurants in Top5 Obese States', weight = 'bold', size = 14, loc = 'center')\n",
    "ax[1].set_title('Healthy Restaurants in Bottom5 Obese States', weight = 'bold', size = 14, loc = 'center')\n",
    "\n",
    "# Set x-axis label\n",
    "ax[0].set_xlabel(\"Restaurant States\", labelpad=10, weight='bold', size=12)\n",
    "ax[1].set_xlabel(\"Restaurant States\", labelpad=10, weight='bold', size=12)\n",
    "\n",
    "# Set y-axis label\n",
    "ax[0].set_ylabel(\"Average Ratings\", labelpad=10, weight='bold', size=12)\n",
    "\n",
    "# Save Figures\n",
    "figure_path = os.path.join('images','Healthy_Top5_x_Bottom5_Boxplot')\n",
    "plt.savefig(figure_path)\n",
    "\n",
    "plt.show()"
   ]
  },
  {
   "cell_type": "code",
   "execution_count": 99,
   "metadata": {},
   "outputs": [
    {
     "name": "stdout",
     "output_type": "stream",
     "text": [
      "Statistic value: 3.7670\n",
      "P-value value: 0.0001905834115082\n"
     ]
    }
   ],
   "source": [
    "# Test if the ratings are different\n",
    "results = stats.ttest_ind(TOP5HEALTHY_restaurants[\"Restaurant Rating\"], \n",
    "                          BOTTOM5HEALTHY_restaurants[\"Restaurant Rating\"], equal_var=False)\n",
    "print(f\"Statistic value: {results.statistic:.4f}\")\n",
    "print(f\"P-value value: {results.pvalue:.16f}\")"
   ]
  },
  {
   "cell_type": "markdown",
   "metadata": {},
   "source": [
    "### Based on the pvalue of the Ttest, we reject the null hypothesis, so Healthy restaurants in Top5 and Bottom5 Obese States have different rating averages.\n",
    "### Based on the statistic value of the Ttest, we notice that healthy restaurants have greater Ratings in Top5 obese states than in Bottom5 Obese States."
   ]
  },
  {
   "cell_type": "code",
   "execution_count": null,
   "metadata": {},
   "outputs": [],
   "source": []
  }
 ],
 "metadata": {
  "kernelspec": {
   "display_name": "Python 3",
   "language": "python",
   "name": "python3"
  },
  "language_info": {
   "codemirror_mode": {
    "name": "ipython",
    "version": 3
   },
   "file_extension": ".py",
   "mimetype": "text/x-python",
   "name": "python",
   "nbconvert_exporter": "python",
   "pygments_lexer": "ipython3",
   "version": "3.7.1"
  }
 },
 "nbformat": 4,
 "nbformat_minor": 2
}
